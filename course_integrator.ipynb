{
 "cells": [
  {
   "cell_type": "code",
   "execution_count": null,
   "id": "45c911a3",
   "metadata": {},
   "outputs": [],
   "source": [
    "file_path= \".data/FULLSTACKSYLLABUS.txt\"\n",
    "# Sample File\n",
    "# Semester,Dept, CourseCode, CourseTitle, Credits, L, T, P,PracticalRoomFeatures\n",
    "# 1,BAE, ENSH 101, Engineering Mathematics I,3,3,2,0,\n",
    "# 1,BAE, ENSH 102, Engineering Physics,4,4,1,2,\n",
    "# 1,BAE, ENCT 101, Computer Programming,3,3,1,3,\n",
    "# 1,BAE, ENEX 101, Fundamental of Electrical and Electronics Engineering,3,3,1,3,\n",
    "# 1,BAE, ENME 101, Engineering Drawing,2,2,0,4,\n",
    "# 1,BAE, ENME 103, Engineering Mechanics I,3,3,1,0,\n",
    "# 2,BAE, ENSH 151, Engineering Mathematics II,3,3,2,0,\n",
    "# 2,BAE, ENSH 153, Engineering Chemistry,3,3,1,3,\n",
    "# 2,BAE, ENME 151, Engineering Thermodynamics I,3,3,1,1.5,\n",
    "# 2,BAE, ENME 152, Machine Drawing,2,2,4,0,\n",
    "# 2,BAE, ENME 153, Engineering Mechanics II,3,3,1,0,\n",
    "# 2,BAE, ENME 155, Workshop Technology,3,3,1,3,\n",
    "\n",
    "# If there are two courses with same course code, then remove the redundant row , and inside the Dept field, add two/more deparements with the same course code \n"
   ]
  },
  {
   "cell_type": "code",
   "execution_count": 4,
   "id": "6dc5107c",
   "metadata": {},
   "outputs": [],
   "source": [
    "import csv\n",
    "from collections import defaultdict\n",
    "file_path= \".data/FULLSTACKSYLLABUS.csv\"\n",
    "input_path = file_path  # Use the file_path from cell 0\n",
    "output_path = \".data/CLEANED_FULLSTACKSYLLABUS.csv\"\n",
    "\n",
    "# Dictionary to store course info keyed by CourseCode\n",
    "course_dict = {}\n",
    "\n",
    "with open(input_path, 'r', encoding='utf-8') as infile:\n",
    "    # Read the header line to get fieldnames\n",
    "    header = infile.readline().strip()\n",
    "    fieldnames = [field.strip() for field in header.split(',')]\n",
    "    \n",
    "    reader = csv.DictReader(infile, fieldnames=fieldnames)\n",
    "    \n",
    "    for row in reader:\n",
    "        code = row['CourseCode'].strip()\n",
    "        dept = row['Dept'].strip()\n",
    "\n",
    "        if code in course_dict:\n",
    "            existing_depts = course_dict[code]['Dept'].split(', ')\n",
    "            if dept not in existing_depts:\n",
    "                existing_depts.append(dept)\n",
    "                course_dict[code]['Dept'] = ', '.join(sorted(set(existing_depts)))\n",
    "        else:\n",
    "            course_dict[code] = row\n",
    "\n",
    "# Write to cleaned output CSV\n",
    "with open(output_path, 'w', newline='', encoding='utf-8') as outfile:\n",
    "    writer = csv.DictWriter(outfile, fieldnames=fieldnames)\n",
    "    writer.writeheader()\n",
    "    writer.writerows(course_dict.values())\n"
   ]
  },
  {
   "cell_type": "code",
   "execution_count": null,
   "id": "c1320e22",
   "metadata": {},
   "outputs": [],
   "source": []
  }
 ],
 "metadata": {
  "kernelspec": {
   "display_name": "GENETICS",
   "language": "python",
   "name": "python3"
  },
  "language_info": {
   "codemirror_mode": {
    "name": "ipython",
    "version": 3
   },
   "file_extension": ".py",
   "mimetype": "text/x-python",
   "name": "python",
   "nbconvert_exporter": "python",
   "pygments_lexer": "ipython3",
   "version": "3.13.5"
  }
 },
 "nbformat": 4,
 "nbformat_minor": 5
}
